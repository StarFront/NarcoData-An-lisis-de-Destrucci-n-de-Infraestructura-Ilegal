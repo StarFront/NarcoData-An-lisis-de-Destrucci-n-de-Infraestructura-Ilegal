{
 "cells": [
  {
   "cell_type": "code",
   "execution_count": null,
   "metadata": {},
   "outputs": [],
   "source": [
    "import pandas as pd\n",
    "from pymongo import MongoClient\n",
    "from bson.objectid import ObjectId\n",
    "\n",
    "client = MongoClient(\"mongodb://localhost:27017/\")\n",
    "db = client[\"NARCO\"]\n",
    "collection = db[\"aer\"]\n",
    "\n",
    "df = pd.read_csv(\"datasets\\\\processed\\\\drop_columns.csv\")\n",
    "\n",
    "data = df.to_dict(orient=\"records\")\n",
    "\n",
    "collection.insert_many(data)\n",
    "\n",
    "print(\"📌 Datos cargados en MongoDB correctamente.\")\n"
   ]
  },
  {
   "cell_type": "markdown",
   "metadata": {},
   "source": [
    "### ◽ SELECT"
   ]
  },
  {
   "cell_type": "code",
   "execution_count": null,
   "metadata": {},
   "outputs": [],
   "source": [
    "for doc in collection.find():\n",
    "   print(doc)\n",
    "\n",
    "#-------------------------------------------------------------------------------\n",
    "\n",
    "busqueda=collection.find({\"FECHA HECHO\": '2025-03-28'})\n",
    "\n",
    "for i in busqueda:\n",
    "    print(i)"
   ]
  },
  {
   "cell_type": "markdown",
   "metadata": {},
   "source": [
    "### ◽ INSERT"
   ]
  },
  {
   "cell_type": "code",
   "execution_count": null,
   "metadata": {},
   "outputs": [],
   "source": [
    "collection.insert_one({\"FECHA HECHO\": \"2025-03-28\", \n",
    "                       \"DEPARTAMENTO\": \"Meta\",\n",
    "                       \"MUNICIPIO\":\"VILLAVICENCIO\",\n",
    "                       \"CANTIDAD\": 2})"
   ]
  },
  {
   "cell_type": "markdown",
   "metadata": {},
   "source": [
    "### ◽UPDATE"
   ]
  },
  {
   "cell_type": "code",
   "execution_count": null,
   "metadata": {},
   "outputs": [],
   "source": [
    "collection.update_one({\"FECHA HECHO\": '2025-03-28','DEPARTAMENTO':\"Meta\"}, {\"$set\": {\"MUNICIPIO\":\"Granada\"}})\n",
    "\n",
    "collection.update_many({\"DEPARTAMENTO\":\"META\"}, {\"$set\": {\"CANTIDAD\": 99999999999}})\n"
   ]
  },
  {
   "cell_type": "markdown",
   "metadata": {},
   "source": [
    "### ◽DELETE"
   ]
  },
  {
   "cell_type": "code",
   "execution_count": 30,
   "metadata": {},
   "outputs": [
    {
     "data": {
      "text/plain": [
       "DeleteResult({'n': 1, 'ok': 1.0}, acknowledged=True)"
      ]
     },
     "execution_count": 30,
     "metadata": {},
     "output_type": "execute_result"
    }
   ],
   "source": [
    "collection.delete_one({\"_id\": ObjectId(\"67e6fc9ca345c34416b7eea6\")})\n",
    "\n",
    "# resultado = collection.delete_many({})\n",
    "# print(f\"Se eliminaron {resultado.deleted_count} documentos.\")\n",
    "\n"
   ]
  }
 ],
 "metadata": {
  "kernelspec": {
   "display_name": "Python 3",
   "language": "python",
   "name": "python3"
  },
  "language_info": {
   "codemirror_mode": {
    "name": "ipython",
    "version": 3
   },
   "file_extension": ".py",
   "mimetype": "text/x-python",
   "name": "python",
   "nbconvert_exporter": "python",
   "pygments_lexer": "ipython3",
   "version": "3.11.4"
  }
 },
 "nbformat": 4,
 "nbformat_minor": 2
}
