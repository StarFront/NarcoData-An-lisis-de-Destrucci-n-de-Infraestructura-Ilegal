{
 "cells": [
  {
   "cell_type": "code",
   "execution_count": 31,
   "metadata": {},
   "outputs": [],
   "source": [
    "import pandas as pd\n",
    "\n",
    "df = pd.read_csv(\"..\\\\datasets\\\\raw\\\\DESTRUCCI_N_DE_INFRAESTRUCTURA_DE_PRODUCCI_N_DE_DROGAS_IL_CITAS_20250327.csv\")"
   ]
  },
  {
   "cell_type": "markdown",
   "metadata": {},
   "source": [
    "##### Modificación de la primera columna en todos los registros (Se elimina 12:00:00 AM)"
   ]
  },
  {
   "cell_type": "code",
   "execution_count": 25,
   "metadata": {},
   "outputs": [],
   "source": [
    "df.iloc[:, 0] = pd.to_datetime(df.iloc[:, 0]).dt.date\n",
    "\n",
    "df.to_csv(\"..\\\\datasets\\\\processed\\\\sin12am.csv\", index=False)"
   ]
  },
  {
   "cell_type": "markdown",
   "metadata": {},
   "source": [
    "##### Feature selection (Eliminación de columnas innecesarias)"
   ]
  },
  {
   "cell_type": "code",
   "execution_count": null,
   "metadata": {},
   "outputs": [],
   "source": [
    "df=pd.read_csv(\"..\\\\datasets\\\\processed\\\\sin12am.csv\")\n",
    "\n",
    "df=df.drop(columns=[\"COD_DEPTO\",\"COD_MUNI\",\"UNIDAD DE MEDIDA\"])\n",
    "\n",
    "df.to_csv(\"..\\\\datasets\\\\processed\\\\drop_columns.csv\", index=False)\n"
   ]
  },
  {
   "cell_type": "code",
   "execution_count": 32,
   "metadata": {},
   "outputs": [],
   "source": [
    "from pymongo import MongoClient"
   ]
  }
 ],
 "metadata": {
  "kernelspec": {
   "display_name": "Python 3",
   "language": "python",
   "name": "python3"
  },
  "language_info": {
   "codemirror_mode": {
    "name": "ipython",
    "version": 3
   },
   "file_extension": ".py",
   "mimetype": "text/x-python",
   "name": "python",
   "nbconvert_exporter": "python",
   "pygments_lexer": "ipython3",
   "version": "3.11.4"
  }
 },
 "nbformat": 4,
 "nbformat_minor": 2
}
